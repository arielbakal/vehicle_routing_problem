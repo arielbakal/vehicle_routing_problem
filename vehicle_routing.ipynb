{
  "nbformat": 4,
  "nbformat_minor": 0,
  "metadata": {
    "colab": {
      "provenance": [],
      "authorship_tag": "ABX9TyNLWtX8Y+SLT1e9gPFLPwtj",
      "include_colab_link": true
    },
    "kernelspec": {
      "name": "python3",
      "display_name": "Python 3"
    },
    "language_info": {
      "name": "python"
    }
  },
  "cells": [
    {
      "cell_type": "markdown",
      "metadata": {
        "id": "view-in-github",
        "colab_type": "text"
      },
      "source": [
        "<a href=\"https://colab.research.google.com/github/arielbakal/vehicle_routing_problem/blob/main/vehicle_routing.ipynb\" target=\"_parent\"><img src=\"https://colab.research.google.com/assets/colab-badge.svg\" alt=\"Open In Colab\"/></a>"
      ]
    },
    {
      "cell_type": "code",
      "execution_count": 3,
      "metadata": {
        "id": "6Kr-exbXIijg"
      },
      "outputs": [],
      "source": [
        "import numpy as np\n",
        "import matplotlib.pyplot as plt"
      ]
    },
    {
      "cell_type": "code",
      "source": [
        "def generate_locations(depot_coord, locations_quantity, map_limit):\n",
        "\n",
        "  x_components = np.random.randint(map_limit[0], map_limit[1], size=locations_quantity)\n",
        "  y_components = np.random.randint(map_limit[0], map_limit[1], size=locations_quantity)\n",
        "  locations = [np.array([x, y]) for x, y in zip(x_components, y_components)]\n",
        "\n",
        "  return locations"
      ],
      "metadata": {
        "id": "lWNHNOdBJYu-"
      },
      "execution_count": 4,
      "outputs": []
    },
    {
      "cell_type": "markdown",
      "source": [
        "Generating a list of $(x,y)$ random points"
      ],
      "metadata": {
        "id": "nO3sxAMLK9Us"
      }
    },
    {
      "cell_type": "code",
      "source": [
        "def routing( depot_coord, locations ):\n",
        "\n",
        "  locations_local = locations[:]\n",
        "  location_from = depot_coord\n",
        "  routes = []\n",
        "\n",
        "  while len(locations_local) != 0:\n",
        "    location_index = np.argmin( [np.linalg.norm( location_from - location ) for location in locations_local] )\n",
        "    location_to = locations_local[ location_index ]\n",
        "    routes.append([location_from,location_to])\n",
        "    location_from = location_to\n",
        "    locations_local.pop(location_index)\n",
        "\n",
        "  routes = routes + [ [routes[-1][1] , depot_coord] ]\n",
        "\n",
        "  return routes"
      ],
      "metadata": {
        "id": "9V1zKjQzJnv0"
      },
      "execution_count": 5,
      "outputs": []
    },
    {
      "cell_type": "markdown",
      "source": [
        "  Then i start tracing routes between the start point and its closest point, then the next closest point and so on, until it ends out of points and ends at the starting point"
      ],
      "metadata": {
        "id": "ol1LjdJRLM4z"
      }
    },
    {
      "cell_type": "code",
      "source": [
        "def map_routes(routes):\n",
        "\n",
        "  fig, axs = plt.subplots(1, 2, figsize=(10, 5))\n",
        "\n",
        "  x_coords = [point[0] for route in routes for point in route]\n",
        "  y_coords = [point[1] for route in routes for point in route]\n",
        "\n",
        "  for route in routes:\n",
        "      axs[1].arrow(route[0][0], route[0][1], route[1][0] - route[0][0], route[1][1] - route[0][1], color='gray', width=0.025, length_includes_head=True, head_width=1.5)\n",
        "      axs[1].plot([route[0][0], route[1][0]], [route[0][1], route[1][1]], color='gray')\n",
        "\n",
        "  axs[1].scatter(x_coords[:-2], y_coords[:-2], label='Locations')\n",
        "  axs[1].scatter(x_coords[-2:][1], y_coords[-2:][1], label='Depot')\n",
        "  axs[1].set_xlabel('X')\n",
        "  axs[1].set_ylabel('Y')\n",
        "  axs[1].set_title('Routes')\n",
        "\n",
        "  axs[0].scatter(x_coords[:-2], y_coords[:-2], label='Locations')\n",
        "  axs[0].scatter(x_coords[-2:][1], y_coords[-2:][1], label='Depot')\n",
        "  axs[0].set_xlabel('X')\n",
        "  axs[0].set_ylabel('Y')\n",
        "  axs[0].set_title('Map')\n",
        "\n",
        "  plt.tight_layout()\n",
        "  plt.legend()\n",
        "  plt.show()"
      ],
      "metadata": {
        "id": "TooOji7aJ4i2"
      },
      "execution_count": 6,
      "outputs": []
    },
    {
      "cell_type": "markdown",
      "source": [
        "At first, i plot a Map with all the points and then the Routes Map"
      ],
      "metadata": {
        "id": "K3cAhPlrMDwR"
      }
    },
    {
      "cell_type": "code",
      "source": [
        "def run_algorithm( depot_coord, locations_quantity, map_limit ):\n",
        "\n",
        "  locations_local = generate_locations( depot_coord, locations_quantity, map_limit )\n",
        "  routes = routing( depot_coord, locations_local )\n",
        "  map_routes(routes)"
      ],
      "metadata": {
        "id": "KY3omGchKD77"
      },
      "execution_count": 7,
      "outputs": []
    },
    {
      "cell_type": "markdown",
      "source": [
        "Lastly, i need a function whichs runs the whole algorithm"
      ],
      "metadata": {
        "id": "Fzd88b8ZMYPD"
      }
    },
    {
      "cell_type": "code",
      "source": [
        "run_algorithm( (0,0), 10, (-50,50) )"
      ],
      "metadata": {
        "colab": {
          "base_uri": "https://localhost:8080/",
          "height": 507
        },
        "id": "5q_s1zXjKL2S",
        "outputId": "955c2ef7-75c9-4b5a-8846-5fd9d5377dc2"
      },
      "execution_count": 8,
      "outputs": [
        {
          "output_type": "display_data",
          "data": {
            "text/plain": [
              "<Figure size 1000x500 with 2 Axes>"
            ],
            "image/png": "[encoded data removed]"
          },
          "metadata": {}
        }
      ]
    },
    {
      "cell_type": "markdown",
      "source": [
        "This should be enough to understand what we are willing to achieved.\n",
        "\n",
        "Here we are working with cartesian points, but we aren't positioned on a plane map. As we are on a non-perfect sphere, i'll be talking about latitude and longitude."
      ],
      "metadata": {
        "id": "DcSEDVxgZj7g"
      }
    },
    {
      "cell_type": "markdown",
      "source": [
        "These are their limits:\n",
        "\n",
        "$latitude \\in [-90,90]$\n",
        ", $longitude \\in [-180,180]$"
      ],
      "metadata": {
        "id": "wOeBADuNZl6A"
      }
    },
    {
      "cell_type": "code",
      "source": [
        "def generate_geolocations(depot_coord, locations_quantity):\n",
        "\n",
        "    lat_components = np.random.uniform(-90, 90, size=locations_quantity)\n",
        "    lon_components = np.random.uniform(-180, 180, size=locations_quantity)\n",
        "\n",
        "    locations = [np.array([lat, lon]) for lat, lon in zip(lat_components, lon_components)]\n",
        "\n",
        "    return locations"
      ],
      "metadata": {
        "id": "CibpI1BNaKY9"
      },
      "execution_count": 9,
      "outputs": []
    },
    {
      "cell_type": "markdown",
      "source": [
        "Since we are in a non-perfect sphere, we cant do euclidean distance anymore. Instead, we've to do some trigonometric calculations, like using the Haversine formula whichs calculates the distance between two points on a sphere."
      ],
      "metadata": {
        "id": "71oKnlb5amDX"
      }
    },
    {
      "cell_type": "markdown",
      "source": [
        "You can build a function for this, but there is a python library who does this work for us."
      ],
      "metadata": {
        "id": "5By5Aq-8btq3"
      }
    },
    {
      "cell_type": "code",
      "source": [
        "from geopy.distance import geodesic"
      ],
      "metadata": {
        "id": "Tk6MZEq_cIBe"
      },
      "execution_count": 10,
      "outputs": []
    },
    {
      "cell_type": "markdown",
      "source": [
        "Adapting our routing function"
      ],
      "metadata": {
        "id": "cqDS0TEydU_s"
      }
    },
    {
      "cell_type": "code",
      "source": [
        "def georouting( depot_coord, locations ):\n",
        "\n",
        "  locations_local = locations[:]\n",
        "  location_from = depot_coord\n",
        "  routes = []\n",
        "\n",
        "  while len(locations_local) != 0:\n",
        "    location_index = np.argmin( [geodesic(location_from, location).kilometers for location in locations_local] )\n",
        "    location_to = locations_local[ location_index ]\n",
        "    routes.append([location_from,location_to])\n",
        "    location_from = location_to\n",
        "    locations_local.pop(location_index)\n",
        "\n",
        "  routes = routes + [ [routes[-1][1] , depot_coord] ]\n",
        "\n",
        "  return routes"
      ],
      "metadata": {
        "id": "05SvDMrOdY2x"
      },
      "execution_count": 11,
      "outputs": []
    },
    {
      "cell_type": "code",
      "source": [
        "def run_algorithm( depot_coord, locations_quantity ):\n",
        "\n",
        "  locations_local = generate_geolocations( depot_coord, locations_quantity )\n",
        "  routes = georouting( depot_coord, locations_local )\n",
        "  map_routes(routes)"
      ],
      "metadata": {
        "id": "w79H3xYzhGzQ"
      },
      "execution_count": 14,
      "outputs": []
    }
  ]
}