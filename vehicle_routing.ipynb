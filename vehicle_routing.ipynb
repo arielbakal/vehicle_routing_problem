{
  "nbformat": 4,
  "nbformat_minor": 0,
  "metadata": {
    "colab": {
      "provenance": [],
      "authorship_tag": "ABX9TyOPLHtwchgWxCC62Hsx7qlG",
      "include_colab_link": true
    },
    "kernelspec": {
      "name": "python3",
      "display_name": "Python 3"
    },
    "language_info": {
      "name": "python"
    }
  },
  "cells": [
    {
      "cell_type": "markdown",
      "metadata": {
        "id": "view-in-github",
        "colab_type": "text"
      },
      "source": [
        "<a href=\"https://colab.research.google.com/github/arielbakal/vehicle_routing_problem/blob/main/vehicle_routing.ipynb\" target=\"_parent\"><img src=\"https://colab.research.google.com/assets/colab-badge.svg\" alt=\"Open In Colab\"/></a>"
      ]
    },
    {
      "cell_type": "code",
      "execution_count": 1,
      "metadata": {
        "id": "6Kr-exbXIijg"
      },
      "outputs": [],
      "source": [
        "import numpy as np\n",
        "import matplotlib.pyplot as plt"
      ]
    },
    {
      "cell_type": "code",
      "source": [
        "def generate_locations(depot_coord, locations_quantity, map_limit):\n",
        "\n",
        "    x_components = np.random.randint(map_limit[0], map_limit[1], size=locations_quantity)\n",
        "    y_components = np.random.randint(map_limit[0], map_limit[1], size=locations_quantity)\n",
        "    locations = [np.array([x, y]) for x, y in zip(x_components, y_components)]\n",
        "\n",
        "    return locations"
      ],
      "metadata": {
        "id": "lWNHNOdBJYu-"
      },
      "execution_count": 2,
      "outputs": []
    },
    {
      "cell_type": "code",
      "source": [
        "def routing( depot_coord, locations ):\n",
        "  locations_local = locations[:]\n",
        "  location_from = depot_coord\n",
        "  routes = []\n",
        "\n",
        "  while len(locations_local) != 0:\n",
        "    location_index = np.argmin( [ np.linalg.norm( location_from - location ) for location in locations_local] )\n",
        "    location_to = locations_local[ location_index ]\n",
        "    routes.append([location_from,location_to])\n",
        "    location_from = location_to\n",
        "    locations_local.pop(location_index)\n",
        "\n",
        "  routes = routes + [ [routes[-1][1] , depot_coord] ]\n",
        "  return routes"
      ],
      "metadata": {
        "id": "9V1zKjQzJnv0"
      },
      "execution_count": 4,
      "outputs": []
    },
    {
      "cell_type": "code",
      "source": [
        "def map_routes(routes):\n",
        "    fig, axs = plt.subplots(1, 2, figsize=(10, 5))\n",
        "\n",
        "    x_coords = [point[0] for route in routes for point in route]\n",
        "    y_coords = [point[1] for route in routes for point in route]\n",
        "\n",
        "    for route in routes:\n",
        "        axs[1].arrow(route[0][0], route[0][1], route[1][0] - route[0][0], route[1][1] - route[0][1], color='gray', width=0.025, length_includes_head=True, head_width=0.3)\n",
        "        axs[1].plot([route[0][0], route[1][0]], [route[0][1], route[1][1]], color='gray')\n",
        "\n",
        "    axs[1].scatter(x_coords[:-2], y_coords[:-2], label='Locations')\n",
        "    axs[1].scatter(x_coords[-2:][1], y_coords[-2:][1], label='Depot')\n",
        "    axs[1].set_xlabel('X')\n",
        "    axs[1].set_ylabel('Y')\n",
        "    axs[1].set_title('Routes')\n",
        "\n",
        "    axs[0].scatter(x_coords[:-2], y_coords[:-2], label='Locations')\n",
        "    axs[0].scatter(x_coords[-2:][1], y_coords[-2:][1], label='Depot')\n",
        "    axs[0].set_xlabel('X')\n",
        "    axs[0].set_ylabel('Y')\n",
        "    axs[0].set_title('Map')\n",
        "\n",
        "    plt.tight_layout()\n",
        "\n",
        "    plt.legend()\n",
        "    plt.show()"
      ],
      "metadata": {
        "id": "TooOji7aJ4i2"
      },
      "execution_count": 5,
      "outputs": []
    }
  ]
}