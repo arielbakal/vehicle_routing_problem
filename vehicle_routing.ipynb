{
  "nbformat": 4,
  "nbformat_minor": 0,
  "metadata": {
    "colab": {
      "provenance": [],
      "authorship_tag": "ABX9TyNYj9vuDJLAM2qbtnrHanuc",
      "include_colab_link": true
    },
    "kernelspec": {
      "name": "python3",
      "display_name": "Python 3"
    },
    "language_info": {
      "name": "python"
    }
  },
  "cells": [
    {
      "cell_type": "markdown",
      "metadata": {
        "id": "view-in-github",
        "colab_type": "text"
      },
      "source": [
        "<a href=\"https://colab.research.google.com/github/arielbakal/vehicle_routing_problem/blob/main/vehicle_routing.ipynb\" target=\"_parent\"><img src=\"https://colab.research.google.com/assets/colab-badge.svg\" alt=\"Open In Colab\"/></a>"
      ]
    },
    {
      "cell_type": "markdown",
      "source": [
        "# Vehicle routing optimization"
      ],
      "metadata": {
        "id": "oSp9EsRDbAzU"
      }
    },
    {
      "cell_type": "code",
      "execution_count": 1,
      "metadata": {
        "id": "6Kr-exbXIijg"
      },
      "outputs": [],
      "source": [
        "import numpy as np\n",
        "import matplotlib.pyplot as plt"
      ]
    },
    {
      "cell_type": "markdown",
      "source": [
        "## Lineal and Simple Routing"
      ],
      "metadata": {
        "id": "1Y_HEJnUbL1l"
      }
    },
    {
      "cell_type": "markdown",
      "source": [
        "### Routing on the plane"
      ],
      "metadata": {
        "id": "t-L4I0-1bbqm"
      }
    },
    {
      "cell_type": "code",
      "source": [
        "def generate_locations(depot_coord, locations_quantity, map_limit):\n",
        "\n",
        "  x_components = np.random.randint(map_limit[0], map_limit[1], size=locations_quantity)\n",
        "  y_components = np.random.randint(map_limit[0], map_limit[1], size=locations_quantity)\n",
        "  locations = [np.array([x, y]) for x, y in zip(x_components, y_components)]\n",
        "\n",
        "  return locations"
      ],
      "metadata": {
        "id": "lWNHNOdBJYu-"
      },
      "execution_count": 2,
      "outputs": []
    },
    {
      "cell_type": "markdown",
      "source": [
        "Generating a list of $(x,y)$ random points"
      ],
      "metadata": {
        "id": "nO3sxAMLK9Us"
      }
    },
    {
      "cell_type": "code",
      "source": [
        "def routing( depot_coord, locations ):\n",
        "\n",
        "  locations_local = locations[:]\n",
        "  location_from = depot_coord\n",
        "  routes = []\n",
        "\n",
        "  while len(locations_local) != 0:\n",
        "    location_index = np.argmin( [np.linalg.norm( location_from - location ) for location in locations_local] )\n",
        "    location_to = locations_local[ location_index ]\n",
        "    routes.append([location_from,location_to])\n",
        "    location_from = location_to\n",
        "    locations_local.pop(location_index)\n",
        "\n",
        "  routes = routes + [ [routes[-1][1] , depot_coord] ]\n",
        "\n",
        "  return routes"
      ],
      "metadata": {
        "id": "9V1zKjQzJnv0"
      },
      "execution_count": 3,
      "outputs": []
    },
    {
      "cell_type": "markdown",
      "source": [
        "  Then i start tracing routes between the start point and its closest point, then the next closest point and so on, until it ends out of points and ends at the starting point"
      ],
      "metadata": {
        "id": "ol1LjdJRLM4z"
      }
    },
    {
      "cell_type": "code",
      "source": [
        "def map_routes(routes):\n",
        "\n",
        "  fig, axs = plt.subplots(1, 2, figsize=(10, 5))\n",
        "\n",
        "  x_coords = [point[0] for route in routes for point in route]\n",
        "  y_coords = [point[1] for route in routes for point in route]\n",
        "\n",
        "  for route in routes:\n",
        "      axs[1].arrow(route[0][0], route[0][1], route[1][0] - route[0][0], route[1][1] - route[0][1], color='gray', width=0.025, length_includes_head=True, head_width=1.5)\n",
        "      axs[1].plot([route[0][0], route[1][0]], [route[0][1], route[1][1]], color='gray')\n",
        "\n",
        "  axs[1].scatter(x_coords[:-2], y_coords[:-2], label='Locations')\n",
        "  axs[1].scatter(x_coords[-2:][1], y_coords[-2:][1], label='Depot')\n",
        "  axs[1].set_xlabel('X')\n",
        "  axs[1].set_ylabel('Y')\n",
        "  axs[1].set_title('Routes')\n",
        "\n",
        "  axs[0].scatter(x_coords[:-2], y_coords[:-2], label='Locations')\n",
        "  axs[0].scatter(x_coords[-2:][1], y_coords[-2:][1], label='Depot')\n",
        "  axs[0].set_xlabel('X')\n",
        "  axs[0].set_ylabel('Y')\n",
        "  axs[0].set_title('Map')\n",
        "\n",
        "  plt.tight_layout()\n",
        "  plt.legend()\n",
        "  plt.show()"
      ],
      "metadata": {
        "id": "TooOji7aJ4i2"
      },
      "execution_count": 4,
      "outputs": []
    },
    {
      "cell_type": "markdown",
      "source": [
        "At first, i plot a Map with all the points and then the Routes Map"
      ],
      "metadata": {
        "id": "K3cAhPlrMDwR"
      }
    },
    {
      "cell_type": "code",
      "source": [
        "def run_algorithm( depot_coord, locations_quantity, map_limit ):\n",
        "\n",
        "  locations_local = generate_locations( depot_coord, locations_quantity, map_limit )\n",
        "  routes = routing( depot_coord, locations_local )\n",
        "  map_routes(routes)"
      ],
      "metadata": {
        "id": "KY3omGchKD77"
      },
      "execution_count": 5,
      "outputs": []
    },
    {
      "cell_type": "markdown",
      "source": [
        "Lastly, i need a function whichs runs the whole algorithm"
      ],
      "metadata": {
        "id": "Fzd88b8ZMYPD"
      }
    },
    {
      "cell_type": "code",
      "source": [
        "run_algorithm( (0,0), 10, (-50,50) )"
      ],
      "metadata": {
        "colab": {
          "base_uri": "https://localhost:8080/",
          "height": 507
        },
        "id": "5q_s1zXjKL2S",
        "outputId": "c8e34eb3-fad3-4335-da2a-9bb7c71caeab"
      },
      "execution_count": 6,
      "outputs": [
        {
          "output_type": "display_data",
          "data": {
            "text/plain": [
              "<Figure size 1000x500 with 2 Axes>"
            ],
            "image/png": "[encoded data removed]"
          },
          "metadata": {}
        }
      ]
    },
    {
      "cell_type": "markdown",
      "source": [
        "This should be enough to understand what we are willing to achieved.\n",
        "\n",
        "Here we are working with cartesian points, but we aren't positioned on a plane map. As we are on a non-perfect sphere, i'll be talking about latitude and longitude."
      ],
      "metadata": {
        "id": "DcSEDVxgZj7g"
      }
    },
    {
      "cell_type": "markdown",
      "source": [
        "### Routing on the sphere ( lat, long )"
      ],
      "metadata": {
        "id": "c98lk8WMboCQ"
      }
    },
    {
      "cell_type": "markdown",
      "source": [
        "These are their limits:\n",
        "\n",
        "$latitude \\in [-90,90]$\n",
        ", $longitude \\in [-180,180]$"
      ],
      "metadata": {
        "id": "wOeBADuNZl6A"
      }
    },
    {
      "cell_type": "code",
      "source": [
        "def generate_geolocations(depot_coord, locations_quantity):\n",
        "\n",
        "    lat_components = np.random.uniform(-90, 90, size=locations_quantity)\n",
        "    lon_components = np.random.uniform(-180, 180, size=locations_quantity)\n",
        "\n",
        "    locations = [np.array([lat, lon]) for lat, lon in zip(lat_components, lon_components)]\n",
        "\n",
        "    return locations"
      ],
      "metadata": {
        "id": "CibpI1BNaKY9"
      },
      "execution_count": 7,
      "outputs": []
    },
    {
      "cell_type": "markdown",
      "source": [
        "Since we are in a non-perfect sphere, we cant do euclidean distance anymore. Instead, we've to do some trigonometric calculations, like using the Haversine formula whichs calculates the distance between two points on a sphere."
      ],
      "metadata": {
        "id": "71oKnlb5amDX"
      }
    },
    {
      "cell_type": "markdown",
      "source": [
        "You can build a function for this, but there is a python library who does this work for us."
      ],
      "metadata": {
        "id": "5By5Aq-8btq3"
      }
    },
    {
      "cell_type": "code",
      "source": [
        "from geopy.distance import geodesic"
      ],
      "metadata": {
        "id": "Tk6MZEq_cIBe"
      },
      "execution_count": 8,
      "outputs": []
    },
    {
      "cell_type": "markdown",
      "source": [
        "Adapting our routing function"
      ],
      "metadata": {
        "id": "cqDS0TEydU_s"
      }
    },
    {
      "cell_type": "code",
      "source": [
        "def georouting( depot_coord, locations ):\n",
        "\n",
        "  locations_local = locations[:]\n",
        "  location_from = depot_coord\n",
        "  routes = []\n",
        "\n",
        "  while len(locations_local) != 0:\n",
        "    location_index = np.argmin( [geodesic(location_from, location).kilometers for location in locations_local] )\n",
        "    location_to = locations_local[ location_index ]\n",
        "    routes.append([location_from,location_to])\n",
        "    location_from = location_to\n",
        "    locations_local.pop(location_index)\n",
        "\n",
        "  routes = routes + [ [routes[-1][1] , depot_coord] ]\n",
        "\n",
        "  return routes"
      ],
      "metadata": {
        "id": "05SvDMrOdY2x"
      },
      "execution_count": 9,
      "outputs": []
    },
    {
      "cell_type": "code",
      "source": [
        "def run_algorithm( depot_coord, locations_quantity ):\n",
        "\n",
        "  locations_local = generate_geolocations( depot_coord, locations_quantity )\n",
        "  routes = georouting( depot_coord, locations_local )\n",
        "  map_routes(routes)"
      ],
      "metadata": {
        "id": "w79H3xYzhGzQ"
      },
      "execution_count": 10,
      "outputs": []
    },
    {
      "cell_type": "code",
      "source": [
        "run_algorithm( (0,0), 10 )"
      ],
      "metadata": {
        "id": "VNlz1kn-hgZx",
        "outputId": "7dba647e-ce79-4f13-c239-deb6bc95c40a",
        "colab": {
          "base_uri": "https://localhost:8080/",
          "height": 507
        }
      },
      "execution_count": 11,
      "outputs": [
        {
          "output_type": "display_data",
          "data": {
            "text/plain": [
              "<Figure size 1000x500 with 2 Axes>"
            ],
            "image/png": "[encoded data removed]"
          },
          "metadata": {}
        }
      ]
    },
    {
      "cell_type": "markdown",
      "source": [
        "This routes may look wrong, but we are representing our sphere points as plane poitns."
      ],
      "metadata": {
        "id": "0UPHzFhChsRO"
      }
    },
    {
      "cell_type": "markdown",
      "source": [
        "### Algorithm working as a Service"
      ],
      "metadata": {
        "id": "ZPRa7sgMb0yR"
      }
    },
    {
      "cell_type": "markdown",
      "source": [
        "Lets import a bigger set of locations"
      ],
      "metadata": {
        "id": "lHMa28lhDWVR"
      }
    },
    {
      "cell_type": "code",
      "source": [
        "import pandas as pd"
      ],
      "metadata": {
        "id": "I8FcJgglDbrZ"
      },
      "execution_count": 12,
      "outputs": []
    },
    {
      "cell_type": "code",
      "source": [
        "file_path = \"/content/sample_data/data.json\"\n",
        "\n",
        "df = pd.read_json(file_path)"
      ],
      "metadata": {
        "id": "sJalK8kQDdqq"
      },
      "execution_count": 13,
      "outputs": []
    },
    {
      "cell_type": "code",
      "source": [
        "print(df)"
      ],
      "metadata": {
        "colab": {
          "base_uri": "https://localhost:8080/"
        },
        "id": "cIbAdq4LX8wD",
        "outputId": "f4e86c69-d78c-4014-a767-b900fbeb63e7"
      },
      "execution_count": 14,
      "outputs": [
        {
          "output_type": "stream",
          "name": "stdout",
          "text": [
            "         id    latitud     longitud\n",
            "0    639933 -32.622739   -60.144791\n",
            "1    639941 -34.810421  -58.1743186\n",
            "2    639942 -34.863270  -58.1832665\n",
            "3    640436 -31.537500    -68.53639\n",
            "4    640438 -34.610164  -58.9564347\n",
            "..      ...        ...          ...\n",
            "516  642262 -31.435560    -62.07139\n",
            "517  642263 -32.941525   -60.665639\n",
            "518  642264 -31.241309   -64.466576\n",
            "519  642265 -31.416670    -64.18333\n",
            "520  642266 -31.662700     -60.7653\n",
            "\n",
            "[521 rows x 3 columns]\n"
          ]
        }
      ]
    },
    {
      "cell_type": "markdown",
      "source": [
        "Here we have 521 locations"
      ],
      "metadata": {
        "id": "tmDRt2RnX_HE"
      }
    },
    {
      "cell_type": "code",
      "source": [
        "depot_coord = tuple(df.loc[0])\n",
        "locations = [tuple(df.loc[i]) for i in range(1, df.shape[0])]"
      ],
      "metadata": {
        "id": "cbk6I5seYkN_"
      },
      "execution_count": 15,
      "outputs": []
    },
    {
      "cell_type": "markdown",
      "source": [
        "We have to adapt our routing function, since we have 3-tuples"
      ],
      "metadata": {
        "id": "aIxrYoGVY6tK"
      }
    },
    {
      "cell_type": "code",
      "source": [
        "def georouting( depot_coord, locations ):\n",
        "\n",
        "  locations_local = locations[:]\n",
        "  location_from = depot_coord\n",
        "  routes = []\n",
        "\n",
        "  while len(locations_local) != 0:\n",
        "    location_index = np.argmin( [geodesic(location_from[1:], location[1:]).kilometers for location in locations_local] )\n",
        "    location_to = locations_local[ location_index ]\n",
        "    routes.append([location_from,location_to])\n",
        "    location_from = location_to\n",
        "    locations_local.pop(location_index)\n",
        "\n",
        "  routes = routes + [ [routes[-1][1] , depot_coord] ]\n",
        "\n",
        "  return routes"
      ],
      "metadata": {
        "id": "DBmTC0YoZC-M"
      },
      "execution_count": 16,
      "outputs": []
    },
    {
      "cell_type": "markdown",
      "source": [
        "Now, lets play the role of being a service. Since we get a json file, lets return a json with all the routes"
      ],
      "metadata": {
        "id": "VbuZaRM9ZjcH"
      }
    },
    {
      "cell_type": "code",
      "source": [
        "import json"
      ],
      "metadata": {
        "id": "erekO7z0ZyNi"
      },
      "execution_count": 17,
      "outputs": []
    },
    {
      "cell_type": "code",
      "source": [
        "def routes_tojson( routes ):\n",
        "  json_data = {}\n",
        "\n",
        "  for i, route in enumerate(routes):\n",
        "      route_key = i\n",
        "      json_data[route_key] = {}\n",
        "      for j, (location_from, lat_from, lon_from) in enumerate(route):\n",
        "          if isinstance(location_from, np.int64):\n",
        "              location_from = location_from.item()\n",
        "          if j == 0:\n",
        "              location_key = \"departure\"\n",
        "          else:\n",
        "              location_key = \"arrival\"\n",
        "          json_data[route_key][location_key] = {\n",
        "              \"id\": location_from,\n",
        "              \"latitude\": lat_from,\n",
        "              \"longitude\": lon_from\n",
        "          }\n",
        "\n",
        "  with open(\"routes.json\", \"w\") as file:\n",
        "      json.dump(json_data, file)"
      ],
      "metadata": {
        "id": "JDJBEQ-LZ4US"
      },
      "execution_count": 18,
      "outputs": []
    },
    {
      "cell_type": "code",
      "source": [
        "routes = georouting( depot_coord, locations)"
      ],
      "metadata": {
        "id": "nxHumDtjaYBW",
        "colab": {
          "base_uri": "https://localhost:8080/",
          "height": 333
        },
        "outputId": "d1db9762-7646-4e8c-e56b-163e40b5f153"
      },
      "execution_count": 19,
      "outputs": [
        {
          "output_type": "error",
          "ename": "KeyboardInterrupt",
          "evalue": "ignored",
          "traceback": [
            "\u001b[0;31m---------------------------------------------------------------------------\u001b[0m",
            "\u001b[0;31mKeyboardInterrupt\u001b[0m                         Traceback (most recent call last)",
            "\u001b[0;32m<ipython-input-19-d796a5b6236b>\u001b[0m in \u001b[0;36m<cell line: 1>\u001b[0;34m()\u001b[0m\n\u001b[0;32m----> 1\u001b[0;31m \u001b[0mroutes\u001b[0m \u001b[0;34m=\u001b[0m \u001b[0mgeorouting\u001b[0m\u001b[0;34m(\u001b[0m \u001b[0mdepot_coord\u001b[0m\u001b[0;34m,\u001b[0m \u001b[0mlocations\u001b[0m\u001b[0;34m)\u001b[0m\u001b[0;34m\u001b[0m\u001b[0;34m\u001b[0m\u001b[0m\n\u001b[0m",
            "\u001b[0;32m<ipython-input-16-935b3efe4b6b>\u001b[0m in \u001b[0;36mgeorouting\u001b[0;34m(depot_coord, locations)\u001b[0m\n\u001b[1;32m      6\u001b[0m \u001b[0;34m\u001b[0m\u001b[0m\n\u001b[1;32m      7\u001b[0m   \u001b[0;32mwhile\u001b[0m \u001b[0mlen\u001b[0m\u001b[0;34m(\u001b[0m\u001b[0mlocations_local\u001b[0m\u001b[0;34m)\u001b[0m \u001b[0;34m!=\u001b[0m \u001b[0;36m0\u001b[0m\u001b[0;34m:\u001b[0m\u001b[0;34m\u001b[0m\u001b[0;34m\u001b[0m\u001b[0m\n\u001b[0;32m----> 8\u001b[0;31m     \u001b[0mlocation_index\u001b[0m \u001b[0;34m=\u001b[0m \u001b[0mnp\u001b[0m\u001b[0;34m.\u001b[0m\u001b[0margmin\u001b[0m\u001b[0;34m(\u001b[0m \u001b[0;34m[\u001b[0m\u001b[0mgeodesic\u001b[0m\u001b[0;34m(\u001b[0m\u001b[0mlocation_from\u001b[0m\u001b[0;34m[\u001b[0m\u001b[0;36m1\u001b[0m\u001b[0;34m:\u001b[0m\u001b[0;34m]\u001b[0m\u001b[0;34m,\u001b[0m \u001b[0mlocation\u001b[0m\u001b[0;34m[\u001b[0m\u001b[0;36m1\u001b[0m\u001b[0;34m:\u001b[0m\u001b[0;34m]\u001b[0m\u001b[0;34m)\u001b[0m\u001b[0;34m.\u001b[0m\u001b[0mkilometers\u001b[0m \u001b[0;32mfor\u001b[0m \u001b[0mlocation\u001b[0m \u001b[0;32min\u001b[0m \u001b[0mlocations_local\u001b[0m\u001b[0;34m]\u001b[0m \u001b[0;34m)\u001b[0m\u001b[0;34m\u001b[0m\u001b[0;34m\u001b[0m\u001b[0m\n\u001b[0m\u001b[1;32m      9\u001b[0m     \u001b[0mlocation_to\u001b[0m \u001b[0;34m=\u001b[0m \u001b[0mlocations_local\u001b[0m\u001b[0;34m[\u001b[0m \u001b[0mlocation_index\u001b[0m \u001b[0;34m]\u001b[0m\u001b[0;34m\u001b[0m\u001b[0;34m\u001b[0m\u001b[0m\n\u001b[1;32m     10\u001b[0m     \u001b[0mroutes\u001b[0m\u001b[0;34m.\u001b[0m\u001b[0mappend\u001b[0m\u001b[0;34m(\u001b[0m\u001b[0;34m[\u001b[0m\u001b[0mlocation_from\u001b[0m\u001b[0;34m,\u001b[0m\u001b[0mlocation_to\u001b[0m\u001b[0;34m]\u001b[0m\u001b[0;34m)\u001b[0m\u001b[0;34m\u001b[0m\u001b[0;34m\u001b[0m\u001b[0m\n",
            "\u001b[0;32m<ipython-input-16-935b3efe4b6b>\u001b[0m in \u001b[0;36m<listcomp>\u001b[0;34m(.0)\u001b[0m\n\u001b[1;32m      6\u001b[0m \u001b[0;34m\u001b[0m\u001b[0m\n\u001b[1;32m      7\u001b[0m   \u001b[0;32mwhile\u001b[0m \u001b[0mlen\u001b[0m\u001b[0;34m(\u001b[0m\u001b[0mlocations_local\u001b[0m\u001b[0;34m)\u001b[0m \u001b[0;34m!=\u001b[0m \u001b[0;36m0\u001b[0m\u001b[0;34m:\u001b[0m\u001b[0;34m\u001b[0m\u001b[0;34m\u001b[0m\u001b[0m\n\u001b[0;32m----> 8\u001b[0;31m     \u001b[0mlocation_index\u001b[0m \u001b[0;34m=\u001b[0m \u001b[0mnp\u001b[0m\u001b[0;34m.\u001b[0m\u001b[0margmin\u001b[0m\u001b[0;34m(\u001b[0m \u001b[0;34m[\u001b[0m\u001b[0mgeodesic\u001b[0m\u001b[0;34m(\u001b[0m\u001b[0mlocation_from\u001b[0m\u001b[0;34m[\u001b[0m\u001b[0;36m1\u001b[0m\u001b[0;34m:\u001b[0m\u001b[0;34m]\u001b[0m\u001b[0;34m,\u001b[0m \u001b[0mlocation\u001b[0m\u001b[0;34m[\u001b[0m\u001b[0;36m1\u001b[0m\u001b[0;34m:\u001b[0m\u001b[0;34m]\u001b[0m\u001b[0;34m)\u001b[0m\u001b[0;34m.\u001b[0m\u001b[0mkilometers\u001b[0m \u001b[0;32mfor\u001b[0m \u001b[0mlocation\u001b[0m \u001b[0;32min\u001b[0m \u001b[0mlocations_local\u001b[0m\u001b[0;34m]\u001b[0m \u001b[0;34m)\u001b[0m\u001b[0;34m\u001b[0m\u001b[0;34m\u001b[0m\u001b[0m\n\u001b[0m\u001b[1;32m      9\u001b[0m     \u001b[0mlocation_to\u001b[0m \u001b[0;34m=\u001b[0m \u001b[0mlocations_local\u001b[0m\u001b[0;34m[\u001b[0m \u001b[0mlocation_index\u001b[0m \u001b[0;34m]\u001b[0m\u001b[0;34m\u001b[0m\u001b[0;34m\u001b[0m\u001b[0m\n\u001b[1;32m     10\u001b[0m     \u001b[0mroutes\u001b[0m\u001b[0;34m.\u001b[0m\u001b[0mappend\u001b[0m\u001b[0;34m(\u001b[0m\u001b[0;34m[\u001b[0m\u001b[0mlocation_from\u001b[0m\u001b[0;34m,\u001b[0m\u001b[0mlocation_to\u001b[0m\u001b[0;34m]\u001b[0m\u001b[0;34m)\u001b[0m\u001b[0;34m\u001b[0m\u001b[0;34m\u001b[0m\u001b[0m\n",
            "\u001b[0;32m/usr/local/lib/python3.10/dist-packages/geopy/distance.py\u001b[0m in \u001b[0;36m__init__\u001b[0;34m(self, *args, **kwargs)\u001b[0m\n\u001b[1;32m    538\u001b[0m         \u001b[0mself\u001b[0m\u001b[0;34m.\u001b[0m\u001b[0mset_ellipsoid\u001b[0m\u001b[0;34m(\u001b[0m\u001b[0mkwargs\u001b[0m\u001b[0;34m.\u001b[0m\u001b[0mpop\u001b[0m\u001b[0;34m(\u001b[0m\u001b[0;34m'ellipsoid'\u001b[0m\u001b[0;34m,\u001b[0m \u001b[0;34m'WGS-84'\u001b[0m\u001b[0;34m)\u001b[0m\u001b[0;34m)\u001b[0m\u001b[0;34m\u001b[0m\u001b[0;34m\u001b[0m\u001b[0m\n\u001b[1;32m    539\u001b[0m         \u001b[0mmajor\u001b[0m\u001b[0;34m,\u001b[0m \u001b[0mminor\u001b[0m\u001b[0;34m,\u001b[0m \u001b[0mf\u001b[0m \u001b[0;34m=\u001b[0m \u001b[0mself\u001b[0m\u001b[0;34m.\u001b[0m\u001b[0mELLIPSOID\u001b[0m\u001b[0;34m\u001b[0m\u001b[0;34m\u001b[0m\u001b[0m\n\u001b[0;32m--> 540\u001b[0;31m         \u001b[0msuper\u001b[0m\u001b[0;34m(\u001b[0m\u001b[0;34m)\u001b[0m\u001b[0;34m.\u001b[0m\u001b[0m__init__\u001b[0m\u001b[0;34m(\u001b[0m\u001b[0;34m*\u001b[0m\u001b[0margs\u001b[0m\u001b[0;34m,\u001b[0m \u001b[0;34m**\u001b[0m\u001b[0mkwargs\u001b[0m\u001b[0;34m)\u001b[0m\u001b[0;34m\u001b[0m\u001b[0;34m\u001b[0m\u001b[0m\n\u001b[0m\u001b[1;32m    541\u001b[0m \u001b[0;34m\u001b[0m\u001b[0m\n\u001b[1;32m    542\u001b[0m     \u001b[0;32mdef\u001b[0m \u001b[0mset_ellipsoid\u001b[0m\u001b[0;34m(\u001b[0m\u001b[0mself\u001b[0m\u001b[0;34m,\u001b[0m \u001b[0mellipsoid\u001b[0m\u001b[0;34m)\u001b[0m\u001b[0;34m:\u001b[0m\u001b[0;34m\u001b[0m\u001b[0;34m\u001b[0m\u001b[0m\n",
            "\u001b[0;32m/usr/local/lib/python3.10/dist-packages/geopy/distance.py\u001b[0m in \u001b[0;36m__init__\u001b[0;34m(self, *args, **kwargs)\u001b[0m\n\u001b[1;32m    274\u001b[0m         \u001b[0;32melif\u001b[0m \u001b[0mlen\u001b[0m\u001b[0;34m(\u001b[0m\u001b[0margs\u001b[0m\u001b[0;34m)\u001b[0m \u001b[0;34m>\u001b[0m \u001b[0;36m1\u001b[0m\u001b[0;34m:\u001b[0m\u001b[0;34m\u001b[0m\u001b[0;34m\u001b[0m\u001b[0m\n\u001b[1;32m    275\u001b[0m             \u001b[0;32mfor\u001b[0m \u001b[0ma\u001b[0m\u001b[0;34m,\u001b[0m \u001b[0mb\u001b[0m \u001b[0;32min\u001b[0m \u001b[0mutil\u001b[0m\u001b[0;34m.\u001b[0m\u001b[0mpairwise\u001b[0m\u001b[0;34m(\u001b[0m\u001b[0margs\u001b[0m\u001b[0;34m)\u001b[0m\u001b[0;34m:\u001b[0m\u001b[0;34m\u001b[0m\u001b[0;34m\u001b[0m\u001b[0m\n\u001b[0;32m--> 276\u001b[0;31m                 \u001b[0mkilometers\u001b[0m \u001b[0;34m+=\u001b[0m \u001b[0mself\u001b[0m\u001b[0;34m.\u001b[0m\u001b[0mmeasure\u001b[0m\u001b[0;34m(\u001b[0m\u001b[0ma\u001b[0m\u001b[0;34m,\u001b[0m \u001b[0mb\u001b[0m\u001b[0;34m)\u001b[0m\u001b[0;34m\u001b[0m\u001b[0;34m\u001b[0m\u001b[0m\n\u001b[0m\u001b[1;32m    277\u001b[0m \u001b[0;34m\u001b[0m\u001b[0m\n\u001b[1;32m    278\u001b[0m         \u001b[0mkilometers\u001b[0m \u001b[0;34m+=\u001b[0m \u001b[0munits\u001b[0m\u001b[0;34m.\u001b[0m\u001b[0mkilometers\u001b[0m\u001b[0;34m(\u001b[0m\u001b[0;34m**\u001b[0m\u001b[0mkwargs\u001b[0m\u001b[0;34m)\u001b[0m\u001b[0;34m\u001b[0m\u001b[0;34m\u001b[0m\u001b[0m\n",
            "\u001b[0;32m/usr/local/lib/python3.10/dist-packages/geopy/distance.py\u001b[0m in \u001b[0;36mmeasure\u001b[0;34m(self, a, b)\u001b[0m\n\u001b[1;32m    564\u001b[0m             \u001b[0mself\u001b[0m\u001b[0;34m.\u001b[0m\u001b[0mgeod\u001b[0m \u001b[0;34m=\u001b[0m \u001b[0mGeodesic\u001b[0m\u001b[0;34m(\u001b[0m\u001b[0mself\u001b[0m\u001b[0;34m.\u001b[0m\u001b[0mELLIPSOID\u001b[0m\u001b[0;34m[\u001b[0m\u001b[0;36m0\u001b[0m\u001b[0;34m]\u001b[0m\u001b[0;34m,\u001b[0m \u001b[0mself\u001b[0m\u001b[0;34m.\u001b[0m\u001b[0mELLIPSOID\u001b[0m\u001b[0;34m[\u001b[0m\u001b[0;36m2\u001b[0m\u001b[0;34m]\u001b[0m\u001b[0;34m)\u001b[0m\u001b[0;34m\u001b[0m\u001b[0;34m\u001b[0m\u001b[0m\n\u001b[1;32m    565\u001b[0m \u001b[0;34m\u001b[0m\u001b[0m\n\u001b[0;32m--> 566\u001b[0;31m         s12 = self.geod.Inverse(lat1, lon1, lat2, lon2,\n\u001b[0m\u001b[1;32m    567\u001b[0m                                 Geodesic.DISTANCE)['s12']\n\u001b[1;32m    568\u001b[0m \u001b[0;34m\u001b[0m\u001b[0m\n",
            "\u001b[0;32m/usr/local/lib/python3.10/dist-packages/geographiclib/geodesic.py\u001b[0m in \u001b[0;36mInverse\u001b[0;34m(self, lat1, lon1, lat2, lon2, outmask)\u001b[0m\n\u001b[1;32m   1028\u001b[0m     \"\"\"\n\u001b[1;32m   1029\u001b[0m \u001b[0;34m\u001b[0m\u001b[0m\n\u001b[0;32m-> 1030\u001b[0;31m     a12, s12, salp1,calp1, salp2,calp2, m12, M12, M21, S12 = self._GenInverse(\n\u001b[0m\u001b[1;32m   1031\u001b[0m       lat1, lon1, lat2, lon2, outmask)\n\u001b[1;32m   1032\u001b[0m     \u001b[0moutmask\u001b[0m \u001b[0;34m&=\u001b[0m \u001b[0mGeodesic\u001b[0m\u001b[0;34m.\u001b[0m\u001b[0mOUT_MASK\u001b[0m\u001b[0;34m\u001b[0m\u001b[0;34m\u001b[0m\u001b[0m\n",
            "\u001b[0;32m/usr/local/lib/python3.10/dist-packages/geographiclib/geodesic.py\u001b[0m in \u001b[0;36m_GenInverse\u001b[0;34m(self, lat1, lon1, lat2, lon2, outmask)\u001b[0m\n\u001b[1;32m    923\u001b[0m                                       Geodesic.GEODESICSCALE))\n\u001b[1;32m    924\u001b[0m                        else Geodesic.EMPTY))\n\u001b[0;32m--> 925\u001b[0;31m         s12x, m12x, dummy, M12, M21 = self._Lengths(\n\u001b[0m\u001b[1;32m    926\u001b[0m           \u001b[0meps\u001b[0m\u001b[0;34m,\u001b[0m \u001b[0msig12\u001b[0m\u001b[0;34m,\u001b[0m \u001b[0mssig1\u001b[0m\u001b[0;34m,\u001b[0m \u001b[0mcsig1\u001b[0m\u001b[0;34m,\u001b[0m \u001b[0mdn1\u001b[0m\u001b[0;34m,\u001b[0m \u001b[0mssig2\u001b[0m\u001b[0;34m,\u001b[0m \u001b[0mcsig2\u001b[0m\u001b[0;34m,\u001b[0m \u001b[0mdn2\u001b[0m\u001b[0;34m,\u001b[0m \u001b[0mcbet1\u001b[0m\u001b[0;34m,\u001b[0m \u001b[0mcbet2\u001b[0m\u001b[0;34m,\u001b[0m\u001b[0;34m\u001b[0m\u001b[0;34m\u001b[0m\u001b[0m\n\u001b[1;32m    927\u001b[0m           lengthmask, C1a, C2a)\n",
            "\u001b[0;32m/usr/local/lib/python3.10/dist-packages/geographiclib/geodesic.py\u001b[0m in \u001b[0;36m_Lengths\u001b[0;34m(self, eps, sig12, ssig1, csig1, dn1, ssig2, csig2, dn2, cbet1, cbet2, outmask, C1a, C2a)\u001b[0m\n\u001b[1;32m    445\u001b[0m                   Geodesic.GEODESICSCALE):\n\u001b[1;32m    446\u001b[0m       \u001b[0mA1\u001b[0m \u001b[0;34m=\u001b[0m \u001b[0mGeodesic\u001b[0m\u001b[0;34m.\u001b[0m\u001b[0m_A1m1f\u001b[0m\u001b[0;34m(\u001b[0m\u001b[0meps\u001b[0m\u001b[0;34m)\u001b[0m\u001b[0;34m\u001b[0m\u001b[0;34m\u001b[0m\u001b[0m\n\u001b[0;32m--> 447\u001b[0;31m       \u001b[0mGeodesic\u001b[0m\u001b[0;34m.\u001b[0m\u001b[0m_C1f\u001b[0m\u001b[0;34m(\u001b[0m\u001b[0meps\u001b[0m\u001b[0;34m,\u001b[0m \u001b[0mC1a\u001b[0m\u001b[0;34m)\u001b[0m\u001b[0;34m\u001b[0m\u001b[0;34m\u001b[0m\u001b[0m\n\u001b[0m\u001b[1;32m    448\u001b[0m       \u001b[0;32mif\u001b[0m \u001b[0moutmask\u001b[0m \u001b[0;34m&\u001b[0m \u001b[0;34m(\u001b[0m\u001b[0mGeodesic\u001b[0m\u001b[0;34m.\u001b[0m\u001b[0mREDUCEDLENGTH\u001b[0m \u001b[0;34m|\u001b[0m \u001b[0mGeodesic\u001b[0m\u001b[0;34m.\u001b[0m\u001b[0mGEODESICSCALE\u001b[0m\u001b[0;34m)\u001b[0m\u001b[0;34m:\u001b[0m\u001b[0;34m\u001b[0m\u001b[0;34m\u001b[0m\u001b[0m\n\u001b[1;32m    449\u001b[0m         \u001b[0mA2\u001b[0m \u001b[0;34m=\u001b[0m \u001b[0mGeodesic\u001b[0m\u001b[0;34m.\u001b[0m\u001b[0m_A2m1f\u001b[0m\u001b[0;34m(\u001b[0m\u001b[0meps\u001b[0m\u001b[0;34m)\u001b[0m\u001b[0;34m\u001b[0m\u001b[0;34m\u001b[0m\u001b[0m\n",
            "\u001b[0;32m/usr/local/lib/python3.10/dist-packages/geographiclib/geodesic.py\u001b[0m in \u001b[0;36m_C1f\u001b[0;34m(eps, c)\u001b[0m\n\u001b[1;32m    221\u001b[0m       \u001b[0mc\u001b[0m\u001b[0;34m[\u001b[0m\u001b[0ml\u001b[0m\u001b[0;34m]\u001b[0m \u001b[0;34m=\u001b[0m \u001b[0md\u001b[0m \u001b[0;34m*\u001b[0m \u001b[0mMath\u001b[0m\u001b[0;34m.\u001b[0m\u001b[0mpolyval\u001b[0m\u001b[0;34m(\u001b[0m\u001b[0mm\u001b[0m\u001b[0;34m,\u001b[0m \u001b[0mcoeff\u001b[0m\u001b[0;34m,\u001b[0m \u001b[0mo\u001b[0m\u001b[0;34m,\u001b[0m \u001b[0meps2\u001b[0m\u001b[0;34m)\u001b[0m \u001b[0;34m/\u001b[0m \u001b[0mcoeff\u001b[0m\u001b[0;34m[\u001b[0m\u001b[0mo\u001b[0m \u001b[0;34m+\u001b[0m \u001b[0mm\u001b[0m \u001b[0;34m+\u001b[0m \u001b[0;36m1\u001b[0m\u001b[0;34m]\u001b[0m\u001b[0;34m\u001b[0m\u001b[0;34m\u001b[0m\u001b[0m\n\u001b[1;32m    222\u001b[0m       \u001b[0mo\u001b[0m \u001b[0;34m+=\u001b[0m \u001b[0mm\u001b[0m \u001b[0;34m+\u001b[0m \u001b[0;36m2\u001b[0m\u001b[0;34m\u001b[0m\u001b[0;34m\u001b[0m\u001b[0m\n\u001b[0;32m--> 223\u001b[0;31m       \u001b[0md\u001b[0m \u001b[0;34m*=\u001b[0m \u001b[0meps\u001b[0m\u001b[0;34m\u001b[0m\u001b[0;34m\u001b[0m\u001b[0m\n\u001b[0m\u001b[1;32m    224\u001b[0m \u001b[0;34m\u001b[0m\u001b[0m\n\u001b[1;32m    225\u001b[0m   \u001b[0;34m@\u001b[0m\u001b[0mstaticmethod\u001b[0m\u001b[0;34m\u001b[0m\u001b[0;34m\u001b[0m\u001b[0m\n",
            "\u001b[0;31mKeyboardInterrupt\u001b[0m: "
          ]
        }
      ]
    },
    {
      "cell_type": "code",
      "source": [
        "routes_tojson(routes)"
      ],
      "metadata": {
        "id": "1o20yKlTakGP"
      },
      "execution_count": null,
      "outputs": []
    },
    {
      "cell_type": "markdown",
      "source": [
        "## Linear and Complex Routing"
      ],
      "metadata": {
        "id": "CDdyupz-9one"
      }
    },
    {
      "cell_type": "markdown",
      "source": [
        "Lets work with some new variables, such like time, velocity and vehicle quantity."
      ],
      "metadata": {
        "id": "5ob59CpP9tQO"
      }
    },
    {
      "cell_type": "markdown",
      "source": [
        "I'll assume that the truck's average velocity is 40km/h"
      ],
      "metadata": {
        "id": "TIE9JCOk-Qy2"
      }
    },
    {
      "cell_type": "code",
      "source": [
        "trucks_vel = 40 # km/h"
      ],
      "metadata": {
        "id": "Qc1RuK7E-r9q"
      },
      "execution_count": 20,
      "outputs": []
    },
    {
      "cell_type": "markdown",
      "source": [
        "Adapting this variable to the routing function:"
      ],
      "metadata": {
        "id": "3v2pEDKbAePA"
      }
    },
    {
      "cell_type": "code",
      "source": [
        "def georouting( depot_coord, locations, trucks_velocity ):\n",
        "\n",
        "  locations_local = locations[:]\n",
        "  location_from = depot_coord\n",
        "  routes = []\n",
        "  duration = 0\n",
        "\n",
        "  while len(locations_local) != 0:\n",
        "    distances = [geodesic(location_from[1:], location[1:]).kilometers for location in locations_local]\n",
        "    duration += min(distances) / trucks_velocity\n",
        "    location_index = np.argmin( distances )\n",
        "    location_to = locations_local[ location_index ]\n",
        "    routes.append([location_from,location_to])\n",
        "    location_from = location_to\n",
        "    locations_local.pop(location_index)\n",
        "\n",
        "  routes = routes + [ [routes[-1][1] , depot_coord] ]\n",
        "  duration += geodesic(routes[-1][1][1:], depot_coord[1:]).kilometers / trucks_velocity\n",
        "\n",
        "  return routes, duration"
      ],
      "metadata": {
        "id": "dl5o1t5j_QKO"
      },
      "execution_count": null,
      "outputs": []
    },
    {
      "cell_type": "code",
      "source": [
        "routes, duration = georouting( depot_coord, locations, trucks_vel)"
      ],
      "metadata": {
        "id": "l5cBaJdqCJfl"
      },
      "execution_count": null,
      "outputs": []
    },
    {
      "cell_type": "code",
      "source": [
        "print(\"Duration =\", round(duration, 2), \"hours\")"
      ],
      "metadata": {
        "id": "3aX3srvBCN6E"
      },
      "execution_count": null,
      "outputs": []
    },
    {
      "cell_type": "markdown",
      "source": [
        "Now lets add a new variable, time."
      ],
      "metadata": {
        "id": "zQ-TJrTFEa8I"
      }
    },
    {
      "cell_type": "code",
      "source": [
        "def georouting( depot_coord, locations, trucks_velocity, time ):\n",
        "\n",
        "  locations_local = locations[:]\n",
        "  location_from = depot_coord\n",
        "  routes = []\n",
        "  duration = 0\n",
        "\n",
        "  while len(locations_local) != 0 and duration <= time:\n",
        "    if ( (geodesic(location_from[1:], depot_coord[1:]).kilometers / trucks_velocity) + duration ) > time:\n",
        "      print((geodesic(location_from[1:], depot_coord[1:]).kilometers / trucks_velocity) + duration )\n",
        "      routes.pop()\n",
        "      break\n",
        "    distances = [geodesic(location_from[1:], location[1:]).kilometers for location in locations_local]\n",
        "    duration += min(distances) / trucks_velocity\n",
        "    location_index = np.argmin( distances )\n",
        "    location_to = locations_local[ location_index ]\n",
        "    routes.append([location_from,location_to])\n",
        "    location_from = location_to\n",
        "    locations_local.pop(location_index)\n",
        "\n",
        "  routes = routes + [ [routes[-1][1] , depot_coord] ]\n",
        "  duration += geodesic(routes[-1][1][1:], depot_coord[1:]).kilometers / trucks_velocity\n",
        "\n",
        "  return routes, duration"
      ],
      "metadata": {
        "id": "i82u81y9EZ-6"
      },
      "execution_count": null,
      "outputs": []
    },
    {
      "cell_type": "code",
      "source": [
        "routes, duration = georouting( depot_coord, locations, trucks_vel, 15)"
      ],
      "metadata": {
        "id": "VSbvPc2EGETV"
      },
      "execution_count": null,
      "outputs": []
    },
    {
      "cell_type": "code",
      "source": [
        "print(len(routes))\n",
        "print(duration)"
      ],
      "metadata": {
        "id": "oIDjZ_6nGJc-"
      },
      "execution_count": null,
      "outputs": []
    },
    {
      "cell_type": "code",
      "source": [
        "def map_georoutes(routes):\n",
        "\n",
        "  routes = [[location[1:] for location in route] for route in routes] # remove id\n",
        "  routes = [[(float(lat), float(long)) for lat, long in route] for route in routes] # transform strings to floats\n",
        "\n",
        "  fig, axs = plt.subplots(1, 2, figsize=(10, 5))\n",
        "\n",
        "  x_coords = [point[0] for route in routes for point in route]\n",
        "  y_coords = [point[1] for route in routes for point in route]\n",
        "\n",
        "  for route in routes:\n",
        "      axs[1].arrow(route[0][0], route[0][1], route[1][0] - route[0][0], route[1][1] - route[0][1], color='gray')\n",
        "      axs[1].plot([route[0][0], route[1][0]], [route[0][1], route[1][1]], color='gray')\n",
        "\n",
        "  axs[1].scatter(x_coords[:-2], y_coords[:-2], label='Locations')\n",
        "  axs[1].scatter(x_coords[-2:][1], y_coords[-2:][1], label='Depot')\n",
        "  axs[1].set_xlabel('X')\n",
        "  axs[1].set_ylabel('Y')\n",
        "  axs[1].set_title('Routes')\n",
        "\n",
        "  axs[0].scatter(x_coords[:-2], y_coords[:-2], label='Locations')\n",
        "  axs[0].scatter(x_coords[-2:][1], y_coords[-2:][1], label='Depot')\n",
        "  axs[0].set_xlabel('X')\n",
        "  axs[0].set_ylabel('Y')\n",
        "  axs[0].set_title('Map')\n",
        "\n",
        "  plt.tight_layout()\n",
        "  plt.legend()\n",
        "  plt.show()"
      ],
      "metadata": {
        "id": "KOBW5G-DE_JA"
      },
      "execution_count": null,
      "outputs": []
    },
    {
      "cell_type": "code",
      "source": [
        "map_georoutes( routes )"
      ],
      "metadata": {
        "id": "Ph17TGz4FaGQ"
      },
      "execution_count": null,
      "outputs": []
    },
    {
      "cell_type": "markdown",
      "source": [
        "We achieved to do the most quantity of routes between x time. Lets implement a function whichs given this variables: trucks, time, avg_vel, locations, depot. returns all the routes should take the trucks"
      ],
      "metadata": {
        "id": "amGiovTWNgTX"
      }
    },
    {
      "cell_type": "code",
      "source": [
        "def multi_routing( depot_coord, locations, trucks, trucks_velocity, time ):\n",
        "\n",
        "  depot_coord_local = depot_coord\n",
        "  locations_local = locations[:]\n",
        "  trucks_routes = []\n",
        "  routes_durations = []\n",
        "\n",
        "  for truck in range(trucks):\n",
        "    last_location = []\n",
        "    location_from = depot_coord_local\n",
        "    routes = []\n",
        "    duration = 0\n",
        "    locations_quantity = 0\n",
        "    while len(locations_local) != 0 and duration <= time:\n",
        "      if ( (geodesic(location_from[1:], depot_coord[1:]).kilometers / trucks_velocity) + duration ) > time:\n",
        "        locations_local.append(location_from)\n",
        "        locations_quantity -= 1\n",
        "        routes = routes[:-1]\n",
        "        print(\"\\nTruck \",truck)\n",
        "        print(\"Done\",locations_quantity,\"locations in\",round(duration,2), \"hours.\", len(locations_local), \"left\" )\n",
        "        break\n",
        "      distances = [geodesic(location_from[1:], location[1:]).kilometers for location in locations_local]\n",
        "      duration += min(distances) / trucks_velocity\n",
        "      location_index = np.argmin( distances )\n",
        "      location_to = locations_local[ location_index ]\n",
        "      routes.append([location_from,location_to])\n",
        "      location_from = location_to\n",
        "      locations_local.pop(location_index)\n",
        "      locations_quantity += 1\n",
        "    if len(locations_local) == 0:\n",
        "      routes = routes + [ [routes[-1][1] , depot_coord] ]\n",
        "      duration += geodesic(routes[-1][1][1:], depot_coord[1:]).kilometers / trucks_velocity\n",
        "      print(\"\\nTruck \",truck)\n",
        "      print(\"Done\",locations_quantity,\"locations in\",round(duration,2), \"hours.\", len(locations_local), \"left\\n\" )\n",
        "      print(\"Unused trucks:\", trucks - (truck+1))\n",
        "      trucks_routes.append(routes)\n",
        "      routes_durations.append(duration)\n",
        "      break\n",
        "    if len(routes) == 0:\n",
        "      print(\"\\nCant reach location with stablished time\")\n",
        "      print(\"Unused trucks:\", trucks - (truck+1))\n",
        "      break\n",
        "    last_location = routes[-1][1]\n",
        "    routes.append([last_location , depot_coord_local])\n",
        "    duration += geodesic(last_location[1:], depot_coord_local[1:]).kilometers / trucks_velocity\n",
        "    trucks_routes.append(routes)\n",
        "    routes_durations.append(duration)\n",
        "\n",
        "  return trucks_routes, routes_durations"
      ],
      "metadata": {
        "id": "YixMmQOAOJnF"
      },
      "execution_count": 21,
      "outputs": []
    },
    {
      "cell_type": "markdown",
      "source": [
        "Lets clean our data and fixed it to a range of 150km"
      ],
      "metadata": {
        "id": "GIacY7RGd5ww"
      }
    },
    {
      "cell_type": "code",
      "source": [
        "file_path = \"/content/sample_data/data.json\"\n",
        "\n",
        "df = pd.read_json(file_path)\n",
        "df = df[df['longitud'] != '']\n",
        "df = df.reset_index(drop=True)\n",
        "\n",
        "depot_coord = tuple(df.loc[0])\n",
        "locations = [tuple(df.loc[i]) for i in range(1, df.shape[0])]\n",
        "limited_locations = []\n",
        "\n",
        "for location in locations:\n",
        "  if (geodesic(location[1:], depot_coord[1:]).kilometers <= 150):\n",
        "    limited_locations.append(location)\n",
        "\n",
        "print(len(locations))\n",
        "print(len(limited_locations))"
      ],
      "metadata": {
        "colab": {
          "base_uri": "https://localhost:8080/"
        },
        "id": "_kOaWvxMd2-8",
        "outputId": "28d19fdc-dc0a-4d43-dcb2-fbe25129dd5e"
      },
      "execution_count": 22,
      "outputs": [
        {
          "output_type": "stream",
          "name": "stdout",
          "text": [
            "518\n",
            "51\n"
          ]
        }
      ]
    },
    {
      "cell_type": "code",
      "source": [
        "trucks_routes, routes_durations = multi_routing( depot_coord, limited_locations, 100, 40, 10 )"
      ],
      "metadata": {
        "colab": {
          "base_uri": "https://localhost:8080/"
        },
        "id": "vS3poMd-eS0a",
        "outputId": "7526f466-de47-44a8-be43-36889b5b35bb"
      },
      "execution_count": 23,
      "outputs": [
        {
          "output_type": "stream",
          "name": "stdout",
          "text": [
            "\n",
            "Truck  0\n",
            "Done 17 locations in 7.46 hours. 34 left\n",
            "\n",
            "Truck  1\n",
            "Done 20 locations in 9.48 hours. 14 left\n",
            "\n",
            "Truck  2\n",
            "Done 5 locations in 8.27 hours. 9 left\n",
            "\n",
            "Truck  3\n",
            "Done 9 locations in 6.66 hours. 0 left\n",
            "\n",
            "Unused trucks: 96\n"
          ]
        }
      ]
    },
    {
      "cell_type": "markdown",
      "source": [
        "Now we implement a mapping function to visualize what we're doing"
      ],
      "metadata": {
        "id": "DmJmnTN0ebAH"
      }
    },
    {
      "cell_type": "code",
      "source": [
        "def mapping_routes( locations, trucks_routes ):\n",
        "\n",
        "  plt.figure(figsize=(20, 8))\n",
        "\n",
        "  for routes in trucks_routes:\n",
        "\n",
        "    routes_local = routes[:]\n",
        "    routes_local = [[location[1:] for location in route] for route in routes_local] # remove id\n",
        "    routes_local = [[(float(lat), float(long)) for lat, long in route] for route in routes_local] # transform strings to floats\n",
        "    depot = routes_local[0][0]\n",
        "\n",
        "    for route in routes_local:\n",
        "        plt.arrow(route[0][0], route[0][1], route[1][0] - route[0][0], route[1][1] - route[0][1], color='gray')\n",
        "        plt.plot([route[0][0], route[1][0]], [route[0][1], route[1][1]], color='gray')\n",
        "\n",
        "  locations_local = locations[:]\n",
        "  lat_coords = [float(location[1:][0]) for location in locations_local]\n",
        "  long_coords = [float(location[1:][1]) for location in locations_local]\n",
        "\n",
        "  plt.scatter(lat_coords[:-2], long_coords[:-2], label='Locations')\n",
        "  plt.scatter(depot[0], depot[1], label='Depot')\n",
        "  plt.xlabel('latitude')\n",
        "  plt.ylabel('longitude')\n",
        "  plt.title('Map')\n",
        "\n",
        "  plt.tight_layout()\n",
        "  plt.legend()\n",
        "  plt.show()"
      ],
      "metadata": {
        "id": "CMTBl51heio-"
      },
      "execution_count": 24,
      "outputs": []
    }
  ]
}