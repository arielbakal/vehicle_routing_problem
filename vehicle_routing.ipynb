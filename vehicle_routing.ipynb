{
  "nbformat": 4,
  "nbformat_minor": 0,
  "metadata": {
    "colab": {
      "provenance": [],
      "authorship_tag": "ABX9TyP+tlML6INXyulAtl1KtFov",
      "include_colab_link": true
    },
    "kernelspec": {
      "name": "python3",
      "display_name": "Python 3"
    },
    "language_info": {
      "name": "python"
    }
  },
  "cells": [
    {
      "cell_type": "markdown",
      "metadata": {
        "id": "view-in-github",
        "colab_type": "text"
      },
      "source": [
        "<a href=\"https://colab.research.google.com/github/arielbakal/vehicle_routing_problem/blob/main/vehicle_routing.ipynb\" target=\"_parent\"><img src=\"https://colab.research.google.com/assets/colab-badge.svg\" alt=\"Open In Colab\"/></a>"
      ]
    },
    {
      "cell_type": "markdown",
      "source": [
        "# Vehicle routing optimization"
      ],
      "metadata": {
        "id": "oSp9EsRDbAzU"
      }
    },
    {
      "cell_type": "code",
      "execution_count": 11,
      "metadata": {
        "id": "6Kr-exbXIijg"
      },
      "outputs": [],
      "source": [
        "import numpy as np\n",
        "import matplotlib.pyplot as plt"
      ]
    },
    {
      "cell_type": "markdown",
      "source": [
        "## Lineal and Simple Routing"
      ],
      "metadata": {
        "id": "1Y_HEJnUbL1l"
      }
    },
    {
      "cell_type": "markdown",
      "source": [
        "### Routing on the plane"
      ],
      "metadata": {
        "id": "t-L4I0-1bbqm"
      }
    },
    {
      "cell_type": "code",
      "source": [
        "def generate_locations(depot_coord, locations_quantity, map_limit):\n",
        "\n",
        "  x_components = np.random.randint(map_limit[0], map_limit[1], size=locations_quantity)\n",
        "  y_components = np.random.randint(map_limit[0], map_limit[1], size=locations_quantity)\n",
        "  locations = [np.array([x, y]) for x, y in zip(x_components, y_components)]\n",
        "\n",
        "  return locations"
      ],
      "metadata": {
        "id": "lWNHNOdBJYu-"
      },
      "execution_count": 12,
      "outputs": []
    },
    {
      "cell_type": "markdown",
      "source": [
        "Generating a list of $(x,y)$ random points"
      ],
      "metadata": {
        "id": "nO3sxAMLK9Us"
      }
    },
    {
      "cell_type": "code",
      "source": [
        "def routing( depot_coord, locations ):\n",
        "\n",
        "  locations_local = locations[:]\n",
        "  location_from = depot_coord\n",
        "  routes = []\n",
        "\n",
        "  while len(locations_local) != 0:\n",
        "    location_index = np.argmin( [np.linalg.norm( location_from - location ) for location in locations_local] )\n",
        "    location_to = locations_local[ location_index ]\n",
        "    routes.append([location_from,location_to])\n",
        "    location_from = location_to\n",
        "    locations_local.pop(location_index)\n",
        "\n",
        "  routes = routes + [ [routes[-1][1] , depot_coord] ]\n",
        "\n",
        "  return routes"
      ],
      "metadata": {
        "id": "9V1zKjQzJnv0"
      },
      "execution_count": 13,
      "outputs": []
    },
    {
      "cell_type": "markdown",
      "source": [
        "  Then i start tracing routes between the start point and its closest point, then the next closest point and so on, until it ends out of points and ends at the starting point"
      ],
      "metadata": {
        "id": "ol1LjdJRLM4z"
      }
    },
    {
      "cell_type": "code",
      "source": [
        "def map_routes(routes):\n",
        "\n",
        "  fig, axs = plt.subplots(1, 2, figsize=(10, 5))\n",
        "\n",
        "  x_coords = [point[0] for route in routes for point in route]\n",
        "  y_coords = [point[1] for route in routes for point in route]\n",
        "\n",
        "  for route in routes:\n",
        "      axs[1].arrow(route[0][0], route[0][1], route[1][0] - route[0][0], route[1][1] - route[0][1], color='gray', width=0.025, length_includes_head=True, head_width=1.5)\n",
        "      axs[1].plot([route[0][0], route[1][0]], [route[0][1], route[1][1]], color='gray')\n",
        "\n",
        "  axs[1].scatter(x_coords[:-2], y_coords[:-2], label='Locations')\n",
        "  axs[1].scatter(x_coords[-2:][1], y_coords[-2:][1], label='Depot')\n",
        "  axs[1].set_xlabel('X')\n",
        "  axs[1].set_ylabel('Y')\n",
        "  axs[1].set_title('Routes')\n",
        "\n",
        "  axs[0].scatter(x_coords[:-2], y_coords[:-2], label='Locations')\n",
        "  axs[0].scatter(x_coords[-2:][1], y_coords[-2:][1], label='Depot')\n",
        "  axs[0].set_xlabel('X')\n",
        "  axs[0].set_ylabel('Y')\n",
        "  axs[0].set_title('Map')\n",
        "\n",
        "  plt.tight_layout()\n",
        "  plt.legend()\n",
        "  plt.show()"
      ],
      "metadata": {
        "id": "TooOji7aJ4i2"
      },
      "execution_count": 14,
      "outputs": []
    },
    {
      "cell_type": "markdown",
      "source": [
        "At first, i plot a Map with all the points and then the Routes Map"
      ],
      "metadata": {
        "id": "K3cAhPlrMDwR"
      }
    },
    {
      "cell_type": "code",
      "source": [
        "def run_algorithm( depot_coord, locations_quantity, map_limit ):\n",
        "\n",
        "  locations_local = generate_locations( depot_coord, locations_quantity, map_limit )\n",
        "  routes = routing( depot_coord, locations_local )\n",
        "  map_routes(routes)"
      ],
      "metadata": {
        "id": "KY3omGchKD77"
      },
      "execution_count": 15,
      "outputs": []
    },
    {
      "cell_type": "markdown",
      "source": [
        "Lastly, i need a function whichs runs the whole algorithm"
      ],
      "metadata": {
        "id": "Fzd88b8ZMYPD"
      }
    },
    {
      "cell_type": "code",
      "source": [
        "run_algorithm( (0,0), 10, (-50,50) )"
      ],
      "metadata": {
        "colab": {
          "base_uri": "https://localhost:8080/",
          "height": 507
        },
        "id": "5q_s1zXjKL2S",
        "outputId": "69cd9da5-d3d1-4b4a-b868-258932b0d34d"
      },
      "execution_count": 16,
      "outputs": [
        {
          "output_type": "display_data",
          "data": {
            "text/plain": [
              "<Figure size 1000x500 with 2 Axes>"
            ],
            "image/png": "[encoded data removed]"
          },
          "metadata": {}
        }
      ]
    },
    {
      "cell_type": "markdown",
      "source": [
        "This should be enough to understand what we are willing to achieved.\n",
        "\n",
        "Here we are working with cartesian points, but we aren't positioned on a plane map. As we are on a non-perfect sphere, i'll be talking about latitude and longitude."
      ],
      "metadata": {
        "id": "DcSEDVxgZj7g"
      }
    },
    {
      "cell_type": "markdown",
      "source": [
        "### Routing on the sphere ( lat, long )"
      ],
      "metadata": {
        "id": "c98lk8WMboCQ"
      }
    },
    {
      "cell_type": "markdown",
      "source": [
        "These are their limits:\n",
        "\n",
        "$latitude \\in [-90,90]$\n",
        ", $longitude \\in [-180,180]$"
      ],
      "metadata": {
        "id": "wOeBADuNZl6A"
      }
    },
    {
      "cell_type": "code",
      "source": [
        "def generate_geolocations(depot_coord, locations_quantity):\n",
        "\n",
        "    lat_components = np.random.uniform(-90, 90, size=locations_quantity)\n",
        "    lon_components = np.random.uniform(-180, 180, size=locations_quantity)\n",
        "\n",
        "    locations = [np.array([lat, lon]) for lat, lon in zip(lat_components, lon_components)]\n",
        "\n",
        "    return locations"
      ],
      "metadata": {
        "id": "CibpI1BNaKY9"
      },
      "execution_count": 17,
      "outputs": []
    },
    {
      "cell_type": "markdown",
      "source": [
        "Since we are in a non-perfect sphere, we cant do euclidean distance anymore. Instead, we've to do some trigonometric calculations, like using the Haversine formula whichs calculates the distance between two points on a sphere."
      ],
      "metadata": {
        "id": "71oKnlb5amDX"
      }
    },
    {
      "cell_type": "markdown",
      "source": [
        "You can build a function for this, but there is a python library who does this work for us."
      ],
      "metadata": {
        "id": "5By5Aq-8btq3"
      }
    },
    {
      "cell_type": "code",
      "source": [
        "from geopy.distance import geodesic"
      ],
      "metadata": {
        "id": "Tk6MZEq_cIBe"
      },
      "execution_count": 18,
      "outputs": []
    },
    {
      "cell_type": "markdown",
      "source": [
        "Adapting our routing function"
      ],
      "metadata": {
        "id": "cqDS0TEydU_s"
      }
    },
    {
      "cell_type": "code",
      "source": [
        "def georouting( depot_coord, locations ):\n",
        "\n",
        "  locations_local = locations[:]\n",
        "  location_from = depot_coord\n",
        "  routes = []\n",
        "\n",
        "  while len(locations_local) != 0:\n",
        "    location_index = np.argmin( [geodesic(location_from, location).kilometers for location in locations_local] )\n",
        "    location_to = locations_local[ location_index ]\n",
        "    routes.append([location_from,location_to])\n",
        "    location_from = location_to\n",
        "    locations_local.pop(location_index)\n",
        "\n",
        "  routes = routes + [ [routes[-1][1] , depot_coord] ]\n",
        "\n",
        "  return routes"
      ],
      "metadata": {
        "id": "05SvDMrOdY2x"
      },
      "execution_count": 19,
      "outputs": []
    },
    {
      "cell_type": "code",
      "source": [
        "def run_algorithm( depot_coord, locations_quantity ):\n",
        "\n",
        "  locations_local = generate_geolocations( depot_coord, locations_quantity )\n",
        "  routes = georouting( depot_coord, locations_local )\n",
        "  map_routes(routes)"
      ],
      "metadata": {
        "id": "w79H3xYzhGzQ"
      },
      "execution_count": 20,
      "outputs": []
    },
    {
      "cell_type": "code",
      "source": [
        "run_algorithm( (0,0), 10 )"
      ],
      "metadata": {
        "id": "VNlz1kn-hgZx",
        "outputId": "7cae8c7d-8f4c-47dc-a6dd-7e81360f03ce",
        "colab": {
          "base_uri": "https://localhost:8080/",
          "height": 507
        }
      },
      "execution_count": 21,
      "outputs": [
        {
          "output_type": "display_data",
          "data": {
            "text/plain": [
              "<Figure size 1000x500 with 2 Axes>"
            ],
            "image/png": "[encoded data removed]"
          },
          "metadata": {}
        }
      ]
    },
    {
      "cell_type": "markdown",
      "source": [
        "This routes may look wrong, but we are representing our sphere points as plane poitns."
      ],
      "metadata": {
        "id": "0UPHzFhChsRO"
      }
    },
    {
      "cell_type": "markdown",
      "source": [
        "### Algorithm working as a Service"
      ],
      "metadata": {
        "id": "ZPRa7sgMb0yR"
      }
    },
    {
      "cell_type": "markdown",
      "source": [
        "Lets import a bigger set of locations"
      ],
      "metadata": {
        "id": "lHMa28lhDWVR"
      }
    },
    {
      "cell_type": "code",
      "source": [
        "import pandas as pd"
      ],
      "metadata": {
        "id": "I8FcJgglDbrZ"
      },
      "execution_count": 22,
      "outputs": []
    },
    {
      "cell_type": "code",
      "source": [
        "file_path = \"/content/sample_data/data.json\"\n",
        "\n",
        "df = pd.read_json(file_path)"
      ],
      "metadata": {
        "id": "sJalK8kQDdqq"
      },
      "execution_count": 23,
      "outputs": []
    },
    {
      "cell_type": "code",
      "source": [
        "print(df)"
      ],
      "metadata": {
        "colab": {
          "base_uri": "https://localhost:8080/"
        },
        "id": "cIbAdq4LX8wD",
        "outputId": "c09d5c0f-f3af-4fb4-c58c-546366947383"
      },
      "execution_count": 24,
      "outputs": [
        {
          "output_type": "stream",
          "name": "stdout",
          "text": [
            "         id    latitud     longitud\n",
            "0    639933 -32.622739   -60.144791\n",
            "1    639941 -34.810421  -58.1743186\n",
            "2    639942 -34.863270  -58.1832665\n",
            "3    640436 -31.537500    -68.53639\n",
            "4    640438 -34.610164  -58.9564347\n",
            "..      ...        ...          ...\n",
            "516  642262 -31.435560    -62.07139\n",
            "517  642263 -32.941525   -60.665639\n",
            "518  642264 -31.241309   -64.466576\n",
            "519  642265 -31.416670    -64.18333\n",
            "520  642266 -31.662700     -60.7653\n",
            "\n",
            "[521 rows x 3 columns]\n"
          ]
        }
      ]
    },
    {
      "cell_type": "markdown",
      "source": [
        "Here we have 521 locations"
      ],
      "metadata": {
        "id": "tmDRt2RnX_HE"
      }
    },
    {
      "cell_type": "code",
      "source": [
        "depot_coord = tuple(df.loc[0])\n",
        "locations = [tuple(df.loc[i]) for i in range(1, df.shape[0])]"
      ],
      "metadata": {
        "id": "cbk6I5seYkN_"
      },
      "execution_count": 25,
      "outputs": []
    },
    {
      "cell_type": "markdown",
      "source": [
        "We have to adapt our routing function, since we have 3-tuples"
      ],
      "metadata": {
        "id": "aIxrYoGVY6tK"
      }
    },
    {
      "cell_type": "code",
      "source": [
        "def georouting( depot_coord, locations ):\n",
        "\n",
        "  locations_local = locations[:]\n",
        "  location_from = depot_coord\n",
        "  routes = []\n",
        "\n",
        "  while len(locations_local) != 0:\n",
        "    location_index = np.argmin( [geodesic(location_from[1:], location[1:]).kilometers for location in locations_local] )\n",
        "    location_to = locations_local[ location_index ]\n",
        "    routes.append([location_from,location_to])\n",
        "    location_from = location_to\n",
        "    locations_local.pop(location_index)\n",
        "\n",
        "  routes = routes + [ [routes[-1][1] , depot_coord] ]\n",
        "\n",
        "  return routes"
      ],
      "metadata": {
        "id": "DBmTC0YoZC-M"
      },
      "execution_count": 26,
      "outputs": []
    },
    {
      "cell_type": "markdown",
      "source": [
        "Now, lets play the role of being a service. Since we get a json file, lets return a json with all the routes"
      ],
      "metadata": {
        "id": "VbuZaRM9ZjcH"
      }
    },
    {
      "cell_type": "code",
      "source": [
        "import json"
      ],
      "metadata": {
        "id": "erekO7z0ZyNi"
      },
      "execution_count": 27,
      "outputs": []
    },
    {
      "cell_type": "code",
      "source": [
        "def routes_tojson( routes ):\n",
        "  json_data = {}\n",
        "\n",
        "  for i, route in enumerate(routes):\n",
        "      route_key = i\n",
        "      json_data[route_key] = {}\n",
        "      for j, (location_from, lat_from, lon_from) in enumerate(route):\n",
        "          if isinstance(location_from, np.int64):\n",
        "              location_from = location_from.item()\n",
        "          if j == 0:\n",
        "              location_key = \"departure\"\n",
        "          else:\n",
        "              location_key = \"arrival\"\n",
        "          json_data[route_key][location_key] = {\n",
        "              \"id\": location_from,\n",
        "              \"latitude\": lat_from,\n",
        "              \"longitude\": lon_from\n",
        "          }\n",
        "\n",
        "  with open(\"routes.json\", \"w\") as file:\n",
        "      json.dump(json_data, file)"
      ],
      "metadata": {
        "id": "JDJBEQ-LZ4US"
      },
      "execution_count": 28,
      "outputs": []
    },
    {
      "cell_type": "code",
      "source": [
        "routes = georouting( depot_coord, locations)"
      ],
      "metadata": {
        "id": "nxHumDtjaYBW"
      },
      "execution_count": 29,
      "outputs": []
    },
    {
      "cell_type": "code",
      "source": [
        "routes_tojson(routes)"
      ],
      "metadata": {
        "id": "1o20yKlTakGP"
      },
      "execution_count": 30,
      "outputs": []
    }
  ]
}